{
 "cells": [
  {
   "cell_type": "code",
   "execution_count": 1,
   "id": "aac6e1d8-74eb-4817-b69e-8c3d9c1968cd",
   "metadata": {},
   "outputs": [
    {
     "name": "stdout",
     "output_type": "stream",
     "text": [
      "(1, '101021007', 'Braidwood', 3418.3525, 'https://linked.data.gov.au/dataset/asgsed3/SA2/101021007', 12.0, 12.0, 26.0, 9.0, 6.0, 18.0, 14.0, 21.0, 33.0, 6.0, 49.0, 54.0, 22.0, 91.0, 113.0, 21.0, 59.0, 79.0, 69.0, 50.0, 120.0, 75.0, 55.0, 128.0, 70.0, 54.0, 129.0, 105.0, 36.0, 136.0, 79.0, 24.0, 105.0, 66.0, 15.0, 82.0, 139.0, 34.0, 176.0, 84.0, 0.0, 84.0, 93.0, 11.0, 104.0, 45.0, 0.0, 48.0, 150.0, 16.0, 166.0, 90.0, 4.0, 95.0, 18.0, 16.0, 30.0, 1160.0, 559.0, 1719.0, '01d66027-2c46-4b72-9162-2abc87ca39e3', 0.339397031774297, 3.9136945523189)\n"
     ]
    }
   ],
   "source": [
    "from sqlalchemy import create_engine\n",
    "import sqlite3\n",
    "import pandas as pd\n",
    "\n",
    "# Create an SQLite database engine\n",
    "engine = create_engine('sqlite:///ABS_2021_Census.db')\n",
    "\n",
    "# Load the CSV file\n",
    "file_path = 'ABS_2021_Census.csv'\n",
    "data = pd.read_csv(file_path)\n",
    "\n",
    "# Connect to SQLite database\n",
    "conn = sqlite3.connect('ABS_2021_Census.db')\n",
    "\n",
    "# Convert the DataFrame to a SQL table\n",
    "data.to_sql('ABS_2021_Census', conn, if_exists='replace', index=False)\n",
    "\n",
    "# Query to fetch the first 5 rows from the table\n",
    "cursor = conn.cursor()\n",
    "cursor.execute(\"SELECT * FROM ABS_2021_Census LIMIT 1\")\n",
    "rows = cursor.fetchall()\n",
    "\n",
    "# Close the connection\n",
    "conn.close()\n",
    "\n",
    "# Display the first few rows\n",
    "for row in rows:\n",
    "    print(row)"
   ]
  },
  {
   "cell_type": "code",
   "execution_count": 2,
   "id": "b6221f38-879a-4238-bf99-8b4d41fda324",
   "metadata": {},
   "outputs": [
    {
     "name": "stdout",
     "output_type": "stream",
     "text": [
      "Requirement already satisfied: langchain==0.1.12 in c:\\users\\adeel\\anaconda3\\lib\\site-packages (0.1.12)\n",
      "Requirement already satisfied: PyYAML>=5.3 in c:\\users\\adeel\\anaconda3\\lib\\site-packages (from langchain==0.1.12) (6.0.1)\n",
      "Requirement already satisfied: SQLAlchemy<3,>=1.4 in c:\\users\\adeel\\anaconda3\\lib\\site-packages (from langchain==0.1.12) (2.0.25)\n",
      "Requirement already satisfied: aiohttp<4.0.0,>=3.8.3 in c:\\users\\adeel\\anaconda3\\lib\\site-packages (from langchain==0.1.12) (3.9.3)\n",
      "Requirement already satisfied: dataclasses-json<0.7,>=0.5.7 in c:\\users\\adeel\\anaconda3\\lib\\site-packages (from langchain==0.1.12) (0.5.14)\n",
      "Requirement already satisfied: jsonpatch<2.0,>=1.33 in c:\\users\\adeel\\anaconda3\\lib\\site-packages (from langchain==0.1.12) (1.33)\n",
      "Requirement already satisfied: langchain-community<0.1,>=0.0.28 in c:\\users\\adeel\\anaconda3\\lib\\site-packages (from langchain==0.1.12) (0.0.38)\n",
      "Requirement already satisfied: langchain-core<0.2.0,>=0.1.31 in c:\\users\\adeel\\anaconda3\\lib\\site-packages (from langchain==0.1.12) (0.1.52)\n",
      "Requirement already satisfied: langchain-text-splitters<0.1,>=0.0.1 in c:\\users\\adeel\\anaconda3\\lib\\site-packages (from langchain==0.1.12) (0.0.2)\n",
      "Requirement already satisfied: langsmith<0.2.0,>=0.1.17 in c:\\users\\adeel\\anaconda3\\lib\\site-packages (from langchain==0.1.12) (0.1.116)\n",
      "Requirement already satisfied: numpy<2,>=1 in c:\\users\\adeel\\anaconda3\\lib\\site-packages (from langchain==0.1.12) (1.26.4)\n",
      "Requirement already satisfied: pydantic<3,>=1 in c:\\users\\adeel\\anaconda3\\lib\\site-packages (from langchain==0.1.12) (1.10.12)\n",
      "Requirement already satisfied: requests<3,>=2 in c:\\users\\adeel\\anaconda3\\lib\\site-packages (from langchain==0.1.12) (2.31.0)\n",
      "Requirement already satisfied: tenacity<9.0.0,>=8.1.0 in c:\\users\\adeel\\anaconda3\\lib\\site-packages (from langchain==0.1.12) (8.2.2)\n",
      "Requirement already satisfied: aiosignal>=1.1.2 in c:\\users\\adeel\\anaconda3\\lib\\site-packages (from aiohttp<4.0.0,>=3.8.3->langchain==0.1.12) (1.2.0)\n",
      "Requirement already satisfied: attrs>=17.3.0 in c:\\users\\adeel\\anaconda3\\lib\\site-packages (from aiohttp<4.0.0,>=3.8.3->langchain==0.1.12) (23.1.0)\n",
      "Requirement already satisfied: frozenlist>=1.1.1 in c:\\users\\adeel\\anaconda3\\lib\\site-packages (from aiohttp<4.0.0,>=3.8.3->langchain==0.1.12) (1.4.0)\n",
      "Requirement already satisfied: multidict<7.0,>=4.5 in c:\\users\\adeel\\anaconda3\\lib\\site-packages (from aiohttp<4.0.0,>=3.8.3->langchain==0.1.12) (6.0.4)\n",
      "Requirement already satisfied: yarl<2.0,>=1.0 in c:\\users\\adeel\\anaconda3\\lib\\site-packages (from aiohttp<4.0.0,>=3.8.3->langchain==0.1.12) (1.9.3)\n",
      "Requirement already satisfied: marshmallow<4.0.0,>=3.18.0 in c:\\users\\adeel\\anaconda3\\lib\\site-packages (from dataclasses-json<0.7,>=0.5.7->langchain==0.1.12) (3.22.0)\n",
      "Requirement already satisfied: typing-inspect<1,>=0.4.0 in c:\\users\\adeel\\anaconda3\\lib\\site-packages (from dataclasses-json<0.7,>=0.5.7->langchain==0.1.12) (0.9.0)\n",
      "Requirement already satisfied: jsonpointer>=1.9 in c:\\users\\adeel\\anaconda3\\lib\\site-packages (from jsonpatch<2.0,>=1.33->langchain==0.1.12) (2.1)\n",
      "Requirement already satisfied: packaging<24.0,>=23.2 in c:\\users\\adeel\\anaconda3\\lib\\site-packages (from langchain-core<0.2.0,>=0.1.31->langchain==0.1.12) (23.2)\n",
      "Requirement already satisfied: httpx<1,>=0.23.0 in c:\\users\\adeel\\anaconda3\\lib\\site-packages (from langsmith<0.2.0,>=0.1.17->langchain==0.1.12) (0.27.2)\n",
      "Requirement already satisfied: orjson<4.0.0,>=3.9.14 in c:\\users\\adeel\\anaconda3\\lib\\site-packages (from langsmith<0.2.0,>=0.1.17->langchain==0.1.12) (3.10.7)\n",
      "Requirement already satisfied: typing-extensions>=4.2.0 in c:\\users\\adeel\\anaconda3\\lib\\site-packages (from pydantic<3,>=1->langchain==0.1.12) (4.12.2)\n",
      "Requirement already satisfied: charset-normalizer<4,>=2 in c:\\users\\adeel\\anaconda3\\lib\\site-packages (from requests<3,>=2->langchain==0.1.12) (2.0.4)\n",
      "Requirement already satisfied: idna<4,>=2.5 in c:\\users\\adeel\\anaconda3\\lib\\site-packages (from requests<3,>=2->langchain==0.1.12) (3.4)\n",
      "Requirement already satisfied: urllib3<3,>=1.21.1 in c:\\users\\adeel\\anaconda3\\lib\\site-packages (from requests<3,>=2->langchain==0.1.12) (2.0.7)\n",
      "Requirement already satisfied: certifi>=2017.4.17 in c:\\users\\adeel\\anaconda3\\lib\\site-packages (from requests<3,>=2->langchain==0.1.12) (2024.2.2)\n",
      "Requirement already satisfied: greenlet!=0.4.17 in c:\\users\\adeel\\anaconda3\\lib\\site-packages (from SQLAlchemy<3,>=1.4->langchain==0.1.12) (3.0.1)\n",
      "Requirement already satisfied: anyio in c:\\users\\adeel\\anaconda3\\lib\\site-packages (from httpx<1,>=0.23.0->langsmith<0.2.0,>=0.1.17->langchain==0.1.12) (4.2.0)\n",
      "Requirement already satisfied: httpcore==1.* in c:\\users\\adeel\\anaconda3\\lib\\site-packages (from httpx<1,>=0.23.0->langsmith<0.2.0,>=0.1.17->langchain==0.1.12) (1.0.5)\n",
      "Requirement already satisfied: sniffio in c:\\users\\adeel\\anaconda3\\lib\\site-packages (from httpx<1,>=0.23.0->langsmith<0.2.0,>=0.1.17->langchain==0.1.12) (1.3.0)\n",
      "Requirement already satisfied: h11<0.15,>=0.13 in c:\\users\\adeel\\anaconda3\\lib\\site-packages (from httpcore==1.*->httpx<1,>=0.23.0->langsmith<0.2.0,>=0.1.17->langchain==0.1.12) (0.14.0)\n",
      "Requirement already satisfied: mypy-extensions>=0.3.0 in c:\\users\\adeel\\anaconda3\\lib\\site-packages (from typing-inspect<1,>=0.4.0->dataclasses-json<0.7,>=0.5.7->langchain==0.1.12) (1.0.0)\n",
      "Note: you may need to restart the kernel to use updated packages.\n"
     ]
    }
   ],
   "source": [
    "pip install langchain==0.1.12"
   ]
  },
  {
   "cell_type": "code",
   "execution_count": 6,
   "id": "56d886c5-b99b-4efa-93ce-04e22217d511",
   "metadata": {},
   "outputs": [
    {
     "name": "stdout",
     "output_type": "stream",
     "text": [
      "Hello, how may I help:  give me rent data\n"
     ]
    },
    {
     "name": "stdout",
     "output_type": "stream",
     "text": [
      "Generated SQL Query: \n",
      "\n",
      "SELECT * FROM atlas_data WHERE tags LIKE '%Rent%'\n"
     ]
    }
   ],
   "source": [
    "from langchain.agents import create_sql_agent\n",
    "from langchain.llms import OpenAI\n",
    "from langchain.chat_models import ChatOpenAI\n",
    "from langchain.agents.agent_toolkits import SQLDatabaseToolkit\n",
    "from langchain.sql_database import SQLDatabase\n",
    "from langchain.prompts import ChatPromptTemplate\n",
    "\n",
    "llm = OpenAI()\n",
    "\n",
    "# Create a connection to your SQLite database\n",
    "db = SQLDatabase.from_uri('sqlite:///digital_atlas_of_australia.db')\n",
    "\n",
    "# Initialize the toolkit for SQL interaction\n",
    "toolkit = SQLDatabaseToolkit(db=db, llm=llm)\n",
    "\n",
    "# Fetch database schema (optional but can help LLM understand the structure)\n",
    "database_schema = db.get_table_info()\n",
    "\n",
    "# Custom function to generate SQL query without executing it\n",
    "def generate_sql_query(input_text):\n",
    "    # Use the ChatPromptTemplate to create a prompt for generating SQL queries\n",
    "    query_prompt_template = ChatPromptTemplate.from_template(\n",
    "        \"Given the following database schema:\\n{database_schema}\\nGenerate a SQL query for the following task: {input_text}, but do not execute it.\"\n",
    "    )\n",
    "    \n",
    "    # Combine the toolkit and LLM to create the final prompt and execute it to get the query\n",
    "    prompt = query_prompt_template.format(database_schema=database_schema, input_text=input_text)\n",
    "    \n",
    "    # Use the toolkit LLM to get the SQL query\n",
    "    sql_query = toolkit.llm(prompt)\n",
    "    \n",
    "    return sql_query\n",
    "\n",
    "# Example usage\n",
    "input_text = input(\"Hello, how may I help: \")\n",
    "input_text = input_text + \"(from atlas_table using tag field and return all records\"\n",
    "sql_query = generate_sql_query(input_text)\n",
    "print(f\"Generated SQL Query: {sql_query}\")"
   ]
  },
  {
   "cell_type": "code",
   "execution_count": 4,
   "id": "9bc4351f-38f8-46a9-8960-6d03b0e20121",
   "metadata": {},
   "outputs": [
    {
     "name": "stdout",
     "output_type": "stream",
     "text": [
      "Hello, how may I help:  show me households which earn more than $2000\n"
     ]
    },
    {
     "name": "stdout",
     "output_type": "stream",
     "text": [
      "Generated SQL Query: \n",
      "\n",
      "SELECT \"SA2_Name\", \"Household_Income:_$2000-$2499:_Total\", \"Household_Income:_$2500-$2999:_Total\", \"Household_Income:_$3000-$3499:_Total\", \"Household_Income:_$3500-$3999:_Total\", \"Household_Income:_$4000_or_more:_Total\" \n",
      "FROM ABS_2021_Census\n",
      "WHERE \"Household_Income:_$2000-$2499:_Total\" > 0 OR \"Household_Income:_$2500-$2999:_Total\" > 0 OR \"Household_Income:_$3000-$3499:_Total\" > 0 OR \"Household_Income:_$3500-$3999:_Total\" > 0 OR \"Household_Income:_$4000_or_more:_Total\" > 0;\n"
     ]
    }
   ],
   "source": [
    "# Create a connection to your SQLite database\n",
    "db = SQLDatabase.from_uri('sqlite:///ABS_2021_Census.db')\n",
    "\n",
    "# Initialize the toolkit for SQL interaction\n",
    "toolkit = SQLDatabaseToolkit(from langchain.agents import create_sql_agent\n",
    "from langchain.llms import OpenAI\n",
    "from langchain.chat_models import ChatOpenAI\n",
    "from langchain.agents.agent_toolkits import SQLDatabaseToolkit\n",
    "from langchain.sql_database import SQLDatabase\n",
    "from langchain.prompts import ChatPromptTemplate\n",
    "import os\n",
    "\n",
    "# Set your OpenAI API key\n",
    "OPENAI_API_KEY = os.getenv(\"OPENAI_API_KEY\")\n",
    "\n",
    "# Initialize the OpenAI LLM with the API key\n",
    "llm = OpenAI(openai_api_key=OPENAI_API_KEY)db=db, llm=llm)\n",
    "\n",
    "# Fetch database schema (optional but can help LLM understand the structure)\n",
    "database_schema = db.get_table_info()\n",
    "\n",
    "# Custom function to generate SQL query without executing it\n",
    "def generate_sql_query(input_text):\n",
    "    # Use the ChatPromptTemplate to create a prompt for generating SQL queries\n",
    "    query_prompt_template = ChatPromptTemplate.from_template(\n",
    "        \"Given the following database schema:\\n{database_schema}\\nGenerate a SQL query for the following task: {input_text}, but do not execute it.\"\n",
    "    )\n",
    "    \n",
    "    # Combine the toolkit and LLM to create the final prompt and execute it to get the query\n",
    "    prompt = query_prompt_template.format(database_schema=database_schema, input_text=input_text)\n",
    "    \n",
    "    # Use the toolkit LLM to get the SQL query\n",
    "    sql_query = toolkit.llm(prompt)\n",
    "    \n",
    "    return sql_query\n",
    "\n",
    "# Example usage\n",
    "input_text = input(\"Hello, how may I help: \")\n",
    "# Extract only the digits and convert them to an integer\n",
    "parsed_int = int(''.join(filter(str.isdigit, input_text)))\n",
    "if parsed_int == 1000:\n",
    "    input_text = input_text + \"and $2000 and $3000 and $4000\"\n",
    "elif parsed_int == 2000:\n",
    "    input_text = input_text + \"$3000 and $4000\"\n",
    "elif parsed_int == 3000:\n",
    "    input_text = input_text + \"$4000\"\n",
    "input_text = input_text + \"(from ABS_2021_Census table using columns as description, select that column and return all records\"\n",
    "sql_query = generate_sql_query(input_text)\n",
    "print(f\"Generated SQL Query: {sql_query}\")"
   ]
  },
  {
   "cell_type": "code",
   "execution_count": null,
   "id": "88141a74-a5e5-4c74-b7c9-36bacf281944",
   "metadata": {},
   "outputs": [],
   "source": []
  }
 ],
 "metadata": {
  "kernelspec": {
   "display_name": "Python 3 (ipykernel)",
   "language": "python",
   "name": "python3"
  },
  "language_info": {
   "codemirror_mode": {
    "name": "ipython",
    "version": 3
   },
   "file_extension": ".py",
   "mimetype": "text/x-python",
   "name": "python",
   "nbconvert_exporter": "python",
   "pygments_lexer": "ipython3",
   "version": "3.11.7"
  }
 },
 "nbformat": 4,
 "nbformat_minor": 5
}
